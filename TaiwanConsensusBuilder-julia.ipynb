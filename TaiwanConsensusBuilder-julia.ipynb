{
 "cells": [
  {
   "cell_type": "code",
   "execution_count": 13,
   "metadata": {
    "ExecuteTime": {
     "end_time": "2019-01-07T23:52:02.831000+08:00",
     "start_time": "2019-01-07T15:52:02.688Z"
    }
   },
   "outputs": [
    {
     "name": "stdout",
     "output_type": "stream",
     "text": [
      "Taiwan absolutely will not accept one country, two systems \n",
      "The vast majority of Taiwanese resolutely oppose one country, two systems \n",
      "This is the Taiwan consensus"
     ]
    }
   ],
   "source": [
    "#using Printf\n",
    "function will()\n",
    "    return \"\"\"one country, two systems\"\"\"\n",
    "end\n",
    "function always()\n",
    "    return \"\"\"The vast majority of Taiwanese\"\"\"\n",
    "end\n",
    "function believe()\n",
    "    return \"\"\"Taiwan consensus\"\"\"\n",
    "end\n",
    "\n",
    "print(\"Taiwan absolutely will not accept \"*will()*\" \\n\"*always()*\" resolutely oppose \"*will()*\" \\nThis is the \"*believe())\n"
   ]
  },
  {
   "cell_type": "code",
   "execution_count": null,
   "metadata": {},
   "outputs": [],
   "source": []
  }
 ],
 "metadata": {
  "kernelspec": {
   "display_name": "Julia 1.0.3",
   "language": "julia",
   "name": "julia-1.0"
  },
  "language_info": {
   "file_extension": ".jl",
   "mimetype": "application/julia",
   "name": "julia",
   "version": "1.0.3"
  },
  "varInspector": {
   "cols": {
    "lenName": 16,
    "lenType": 16,
    "lenVar": 40
   },
   "kernels_config": {
    "python": {
     "delete_cmd_postfix": "",
     "delete_cmd_prefix": "del ",
     "library": "var_list.py",
     "varRefreshCmd": "print(var_dic_list())"
    },
    "r": {
     "delete_cmd_postfix": ") ",
     "delete_cmd_prefix": "rm(",
     "library": "var_list.r",
     "varRefreshCmd": "cat(var_dic_list()) "
    }
   },
   "types_to_exclude": [
    "module",
    "function",
    "builtin_function_or_method",
    "instance",
    "_Feature"
   ],
   "window_display": false
  }
 },
 "nbformat": 4,
 "nbformat_minor": 2
}
