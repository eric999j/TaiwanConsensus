{
 "cells": [
  {
   "cell_type": "code",
   "execution_count": 4,
   "metadata": {
    "ExecuteTime": {
     "end_time": "2019-01-06T08:21:00.029342Z",
     "start_time": "2019-01-06T08:21:00.019062Z"
    }
   },
   "outputs": [
    {
     "name": "stdout",
     "output_type": "stream",
     "text": [
      "Taiwan absolutely will not accept \"one country, two systems\".\n",
      "\r",
      "The vast majority of Taiwanese resolutely oppose \"one country, two systems\".\n",
      "\r",
      "This is the \"Taiwan consensus\".\n"
     ]
    }
   ],
   "source": [
    "from __future__ import print_function\n",
    "class TaiwanConsensusBuilder:\n",
    "    def __init__(self):\n",
    "        self._subject = ''\n",
    "        self._oppose = ''\n",
    "        self._motto = ''\n",
    "        \n",
    "    def will(self):\n",
    "        self._oppose = 'one country, two systems'\n",
    "        return self\n",
    "    def always(self):\n",
    "        self._subject = 'The vast majority of Taiwanese'\n",
    "        return self\n",
    "    def beleve(self):\n",
    "        self._motto = 'Taiwan consensus'\n",
    "        return self\n",
    "    def __str__(self):\n",
    "        return ('Taiwan absolutely will not accept \"{0}\".\\n\\r'+\n",
    "               '{1} resolutely oppose \"{0}\".\\n\\r'+\n",
    "               'This is the \"{2}\".').format(self._oppose,\n",
    "                                           self._subject,\n",
    "                                           self._motto)\n",
    "if __name__ =='__main__':\n",
    "    taiwan = TaiwanConsensusBuilder()\n",
    "    print(taiwan.will().always().beleve())"
   ]
  },
  {
   "cell_type": "markdown",
   "metadata": {},
   "source": [
    "'''java版\n",
    "import static java.lang.System.*;\n",
    " \n",
    "public class TaiwanConsensus{\n",
    "\tprivate String _subject;\n",
    "    private String _oppose;\n",
    "    private String _motto;\n",
    " \n",
    "\tprivate String getWill(){\n",
    "\t\treturn _oppose;\n",
    "\t}\n",
    "\tprivate String getAlways(){\n",
    "\t\treturn _subject;\n",
    "\t}\n",
    "\tprivate String getBeleve(){\n",
    "\t\treturn _motto;\n",
    "\t}\t\n",
    "\tprivate void output(){\n",
    "\t\tSystem.out.print(String.format(\"Taiwan absolutely will not accept %s.\\n\\r\"+\n",
    "               \"%s resolutely oppose %s.\\n\\r\"+\n",
    "               \"This is the %s.\",getWill(),getAlways(), getWill(),getBeleve()));\n",
    "\t}\n",
    " \n",
    "\tprivate static class ConsensusBuilder{\n",
    "\t\tprivate String _subject;\n",
    "        private String _oppose;\n",
    "        private String _motto;\n",
    "\t\tpublic ConsensusBuilder(String subject,String oppose,String motto){\n",
    "\t\t\tthis._subject=subject;\n",
    "\t\t\tthis._oppose=oppose;\n",
    "\t\t\tthis._motto=motto;\n",
    "\t\t}\n",
    "\t\tprivate TaiwanConsensus build(){\n",
    "\t\t\treturn new TaiwanConsensus(this);\n",
    "\t\t}\n",
    "\t}\n",
    "\tprivate TaiwanConsensus(ConsensusBuilder builder){\n",
    "\t\t\tthis._subject=builder._subject;\n",
    "\t\t\tthis._oppose=builder._oppose;\n",
    "\t\t\tthis._motto=builder._motto;\n",
    "\t}\n",
    "\tpublic static void main (String[] args) throws java.lang.Exception\n",
    "\t{\n",
    "\t\tTaiwanConsensus taiwan = new TaiwanConsensus.ConsensusBuilder(\n",
    "\t\t\"The vast majority of Taiwanese\"\n",
    "\t\t,\"one country, two systems\"\n",
    "\t\t,\"Taiwan consensus\").build();\n",
    "\t\ttaiwan.output();\n",
    " \n",
    "\t}\n",
    "}\n",
    "'''"
   ]
  },
  {
   "cell_type": "code",
   "execution_count": null,
   "metadata": {},
   "outputs": [],
   "source": []
  }
 ],
 "metadata": {
  "kernelspec": {
   "display_name": "Python 3",
   "language": "python",
   "name": "python3"
  },
  "language_info": {
   "codemirror_mode": {
    "name": "ipython",
    "version": 3
   },
   "file_extension": ".py",
   "mimetype": "text/x-python",
   "name": "python",
   "nbconvert_exporter": "python",
   "pygments_lexer": "ipython3",
   "version": "3.6.7"
  },
  "varInspector": {
   "cols": {
    "lenName": 16,
    "lenType": 16,
    "lenVar": 40
   },
   "kernels_config": {
    "python": {
     "delete_cmd_postfix": "",
     "delete_cmd_prefix": "del ",
     "library": "var_list.py",
     "varRefreshCmd": "print(var_dic_list())"
    },
    "r": {
     "delete_cmd_postfix": ") ",
     "delete_cmd_prefix": "rm(",
     "library": "var_list.r",
     "varRefreshCmd": "cat(var_dic_list()) "
    }
   },
   "types_to_exclude": [
    "module",
    "function",
    "builtin_function_or_method",
    "instance",
    "_Feature"
   ],
   "window_display": false
  }
 },
 "nbformat": 4,
 "nbformat_minor": 2
}
